{
 "cells": [
  {
   "cell_type": "markdown",
   "id": "49ea8991",
   "metadata": {},
   "source": [
    "### 1. Given a list of integers, remove all occurrences of a specific value using a list method.\n"
   ]
  },
  {
   "cell_type": "code",
   "execution_count": 4,
   "id": "7bf7075d",
   "metadata": {},
   "outputs": [
    {
     "name": "stdout",
     "output_type": "stream",
     "text": [
      "[3, 5, 8, 5, 9, 5]\n"
     ]
    }
   ],
   "source": [
    "lis=[1,3,5,8,5,9,5]\n",
    "lis.remove(1)\n",
    "print(lis)"
   ]
  },
  {
   "cell_type": "markdown",
   "id": "f660cfec",
   "metadata": {},
   "source": [
    "### 2. Concatenate a list of strings into a single string, with each element separated by a space, using a list method.\n"
   ]
  },
  {
   "cell_type": "code",
   "execution_count": 5,
   "id": "4441524c",
   "metadata": {},
   "outputs": [
    {
     "name": "stdout",
     "output_type": "stream",
     "text": [
      "hello world\n"
     ]
    }
   ],
   "source": [
    "l1 = ['hello', 'world']\n",
    "str = ' '.join(l1)\n",
    "print(str)  "
   ]
  },
  {
   "cell_type": "markdown",
   "id": "d95024a3",
   "metadata": {},
   "source": [
    "### 3. Reverse a list of integers using a built-in list method.\n"
   ]
  },
  {
   "cell_type": "code",
   "execution_count": 6,
   "id": "107c1cef",
   "metadata": {},
   "outputs": [
    {
     "name": "stdout",
     "output_type": "stream",
     "text": [
      "[5, 9, 5, 8, 5, 3, 1]\n"
     ]
    }
   ],
   "source": [
    "l2=[1,3,5,8,5,9,5]\n",
    "l2.reverse()\n",
    "print(l2)"
   ]
  },
  {
   "cell_type": "markdown",
   "id": "e333b0b2",
   "metadata": {},
   "source": [
    "### 4. Sort a list of numbers in descending order using a built-in list method.\n"
   ]
  },
  {
   "cell_type": "code",
   "execution_count": 7,
   "id": "983188e3",
   "metadata": {},
   "outputs": [
    {
     "name": "stdout",
     "output_type": "stream",
     "text": [
      "[9, 8, 5, 5, 5, 3, 1]\n"
     ]
    }
   ],
   "source": [
    "l3=[1,3,5,8,5,9,5]\n",
    "l3.sort(reverse=True)\n",
    "print(l3)"
   ]
  },
  {
   "cell_type": "markdown",
   "id": "a58d13f6",
   "metadata": {},
   "source": [
    "### 5. Given two lists, combine them into a single list and remove any duplicate elements using a list method.\n"
   ]
  },
  {
   "cell_type": "code",
   "execution_count": 11,
   "id": "ebf868d9",
   "metadata": {},
   "outputs": [
    {
     "name": "stdout",
     "output_type": "stream",
     "text": [
      "[1, 3, 5, 8, 9]\n"
     ]
    }
   ],
   "source": [
    "lis1=[1,3,5,8,5,9,5]\n",
    "lis2=[9,8,5,5,5,3,1]\n",
    "lis3=list(set(lis1+lis2))\n",
    "print(lis3)"
   ]
  },
  {
   "cell_type": "markdown",
   "id": "d406f642",
   "metadata": {},
   "source": [
    "### 6. Convert a tuple of integers into a list and remove the first and last elements using a tuple method."
   ]
  },
  {
   "cell_type": "code",
   "execution_count": 15,
   "id": "fa034add",
   "metadata": {},
   "outputs": [
    {
     "name": "stdout",
     "output_type": "stream",
     "text": [
      "<class 'tuple'>\n",
      "<class 'list'>\n"
     ]
    },
    {
     "data": {
      "text/plain": [
       "[5, 8, 6]"
      ]
     },
     "execution_count": 15,
     "metadata": {},
     "output_type": "execute_result"
    }
   ],
   "source": [
    "t=(1,5,8,6,3)\n",
    "print(type(t))\n",
    "\n",
    "list1=list(t)\n",
    "print(type(list1))\n",
    "list1[1:-1]"
   ]
  },
  {
   "cell_type": "markdown",
   "id": "af4f8228",
   "metadata": {},
   "source": [
    "### 7. Given a list of tuples, extract all the first elements of each tuple into a separate list using tuple unpacking."
   ]
  },
  {
   "cell_type": "code",
   "execution_count": 16,
   "id": "b155fb61",
   "metadata": {},
   "outputs": [
    {
     "name": "stdout",
     "output_type": "stream",
     "text": [
      "[1, 2, 3]\n"
     ]
    }
   ],
   "source": [
    "t_lst = [(1, 'a'), (2, 'b'), (3, 'c')]\n",
    "final_lis = list(map(lambda x: x[0], t_lst))\n",
    "print(final_lis)"
   ]
  },
  {
   "cell_type": "markdown",
   "id": "8223bde3",
   "metadata": {},
   "source": [
    "### 8. Combine two tuples into a single tuple.\n"
   ]
  },
  {
   "cell_type": "code",
   "execution_count": 20,
   "id": "5b91090d",
   "metadata": {},
   "outputs": [
    {
     "name": "stdout",
     "output_type": "stream",
     "text": [
      "(1, 5, 8, 9, 6, 8, 9, 6)\n"
     ]
    }
   ],
   "source": [
    "t1=(1,5,8,9)\n",
    "t2=(6,8,9,6)\n",
    "t3=tuple(t1+t2)\n",
    "print(t3)"
   ]
  },
  {
   "cell_type": "markdown",
   "id": "76b1ac1d",
   "metadata": {},
   "source": [
    "### 9. Find the maximum and minimum values in a tuple of numbers using tuple methods.\n"
   ]
  },
  {
   "cell_type": "code",
   "execution_count": 26,
   "id": "bd367640",
   "metadata": {},
   "outputs": [
    {
     "name": "stdout",
     "output_type": "stream",
     "text": [
      "maximum number from tuple t4 = 89\n",
      "minimum number from tuple t4 = 5\n"
     ]
    }
   ],
   "source": [
    "t4=(5,8,89,12,20)\n",
    "print(\"maximum number from tuple t4 =\", max(t4))\n",
    "print(\"minimum number from tuple t4 =\", min(t4))"
   ]
  },
  {
   "cell_type": "markdown",
   "id": "2825a9a8",
   "metadata": {},
   "source": [
    "### 10. Convert a tuple of strings into a single string, with each element separated by a comma, using tuple methods.\n"
   ]
  },
  {
   "cell_type": "code",
   "execution_count": 31,
   "id": "0752d2aa",
   "metadata": {},
   "outputs": [
    {
     "name": "stdout",
     "output_type": "stream",
     "text": [
      "SGVU, JAIPUR, JAGATPURA\n"
     ]
    }
   ],
   "source": [
    "t5=(\"SGVU\", \"JAIPUR\", \"JAGATPURA\")\n",
    "T6=', ' .join(t5)\n",
    "print(T6)"
   ]
  },
  {
   "cell_type": "markdown",
   "id": "c3ccb86f",
   "metadata": {},
   "source": [
    "### 11. Given two sets, return the union of the two sets using a set operation.\n"
   ]
  },
  {
   "cell_type": "code",
   "execution_count": 33,
   "id": "6354e413",
   "metadata": {},
   "outputs": [
    {
     "name": "stdout",
     "output_type": "stream",
     "text": [
      "{1, 2, 5, 6, 8, 9}\n"
     ]
    }
   ],
   "source": [
    "s1={1,2,5,6}\n",
    "s2={5,9,2,8}\n",
    "s3=s1.union(s2)\n",
    "print(s3)"
   ]
  },
  {
   "cell_type": "markdown",
   "id": "8c62b919",
   "metadata": {},
   "source": [
    "### 12. Find the intersection of two sets using a set method."
   ]
  },
  {
   "cell_type": "code",
   "execution_count": 34,
   "id": "f11b8fcd",
   "metadata": {},
   "outputs": [
    {
     "name": "stdout",
     "output_type": "stream",
     "text": [
      "{2, 5}\n"
     ]
    }
   ],
   "source": [
    "s4=s1.intersection(s2)\n",
    "print(s4)"
   ]
  },
  {
   "cell_type": "markdown",
   "id": "0e2b89b2",
   "metadata": {},
   "source": [
    "### 13. Remove all elements from one set that are also present in another set using a set method.\n"
   ]
  },
  {
   "cell_type": "code",
   "execution_count": 37,
   "id": "a4854c6d",
   "metadata": {},
   "outputs": [
    {
     "name": "stdout",
     "output_type": "stream",
     "text": [
      "None\n"
     ]
    }
   ],
   "source": [
    "s1={1,2,5,6}\n",
    "s5=s1.difference_update(s2)\n",
    "print(s5)"
   ]
  },
  {
   "cell_type": "markdown",
   "id": "5612119b",
   "metadata": {},
   "source": [
    "### 14. Find the difference between two sets using a set method.\n"
   ]
  },
  {
   "cell_type": "code",
   "execution_count": 38,
   "id": "920e3811",
   "metadata": {},
   "outputs": [
    {
     "name": "stdout",
     "output_type": "stream",
     "text": [
      "{1, 6}\n"
     ]
    }
   ],
   "source": [
    "s6=s1.difference(s2)\n",
    "print(s6)"
   ]
  },
  {
   "cell_type": "markdown",
   "id": "b4736234",
   "metadata": {},
   "source": [
    "### 15. Convert a list of integers into a set and then back to a list to remove duplicates, using set operations."
   ]
  },
  {
   "cell_type": "code",
   "execution_count": 39,
   "id": "fde40f13",
   "metadata": {},
   "outputs": [
    {
     "name": "stdout",
     "output_type": "stream",
     "text": [
      "[1, 2, 3, 4, 5]\n"
     ]
    }
   ],
   "source": [
    "lis11 = [1, 2, 2, 3, 4, 4, 5]\n",
    "set1 = set(lis11)\n",
    "unique_list = list(set1)\n",
    "print(unique_list)"
   ]
  },
  {
   "cell_type": "markdown",
   "id": "dd38fa58",
   "metadata": {},
   "source": [
    "### 16. Merge two dictionaries into a single dictionary using a dictionary method."
   ]
  },
  {
   "cell_type": "code",
   "execution_count": 41,
   "id": "420eadd0",
   "metadata": {},
   "outputs": [
    {
     "name": "stdout",
     "output_type": "stream",
     "text": [
      "{'Name': 'Ram', 'Age': 22, 'Branch': 'Cse', 'Address': 'Jaipur', 'Gender': 'Male', 'E-mail': 'ram@gmail.com'}\n"
     ]
    }
   ],
   "source": [
    "dic1={\"Name\":\"Ram\", \"Age\":22, \"Branch\":\"Cse\"}\n",
    "dic2={\"Address\":\"Jaipur\", \"Gender\":\"Male\", \"E-mail\":\"ram@gmail.com\"}\n",
    "dic3={**dic1,**dic2}\n",
    "print(dic3)"
   ]
  },
  {
   "cell_type": "markdown",
   "id": "1d454f56",
   "metadata": {},
   "source": [
    "### 17. Extract all values from a dictionary into a list using a dictionary method."
   ]
  },
  {
   "cell_type": "code",
   "execution_count": 44,
   "id": "d38d53a6",
   "metadata": {},
   "outputs": [
    {
     "name": "stdout",
     "output_type": "stream",
     "text": [
      "['Ram', 22, 'Cse', 'Jaipur', 'Male', 'ram@gmail.com']\n"
     ]
    }
   ],
   "source": [
    "dic4=list(dic3.values())\n",
    "print(dic4)"
   ]
  },
  {
   "cell_type": "code",
   "execution_count": null,
   "id": "a5f97895",
   "metadata": {},
   "outputs": [],
   "source": []
  }
 ],
 "metadata": {
  "kernelspec": {
   "display_name": "Python 3 (ipykernel)",
   "language": "python",
   "name": "python3"
  },
  "language_info": {
   "codemirror_mode": {
    "name": "ipython",
    "version": 3
   },
   "file_extension": ".py",
   "mimetype": "text/x-python",
   "name": "python",
   "nbconvert_exporter": "python",
   "pygments_lexer": "ipython3",
   "version": "3.9.12"
  }
 },
 "nbformat": 4,
 "nbformat_minor": 5
}
